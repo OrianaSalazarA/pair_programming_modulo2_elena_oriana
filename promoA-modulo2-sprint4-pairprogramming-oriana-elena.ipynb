{
 "cells": [
  {
   "cell_type": "markdown",
   "metadata": {},
   "source": [
    "## Pair programming SQL- Extracción de Datos con SQL: Introducción y Normalización BBDD\n",
    "### Pair programming SQL Intro a BBDD y Normalización\n",
    "\n",
    "El objetivo de este ejercicio es hacer las modificaciones necesarias a la siguiente tabla para que cumpla con las tres primeras formas normales:\n",
    "\n",
    "\n",
    "| id_alumna | nombre | dirección | id_asignatura | asignatura | nota |\n",
    "|-----------|-----------|-----------|-----------|-----------|-----------|\n",
    "| 1 | Cristina Marín | Cuenca, España | 101 | Bases de datos | 8 |\n",
    "| 1 | Cristina Marín | Cuenca, España | 102 | Extracción | 9 |\n",
    "| 1 | Cristina Marín | Cuenca, España | 103 | Limpieza | 8 |\n",
    "| 2 | Marta López | Toledo, España | 101 | Bases de datos | 7 |\n",
    "| 2 | Marta López | Toledo, España | 103 | Limpieza | 9 |\n",
    "| 3 | Rocío Pérez | Nantes, Francia | 101 | Bases de datos | 10 |\n",
    "| 3 | Rocío Pérez | Nantes, Francia | 102 | Extracción | 7 |\n",
    "| 4 | Elena Rodriguez | Monterrey, México | 101 | Bases de datos | 10 |\n",
    "| 4 | Elena Rodriguez | Monterrey, México | 102 | Extracción | 9 |\n",
    "| 4 | Elena Rodriguez | Monterrey, México | 103 | Limpieza | 7 |\n",
    "\n"
   ]
  },
  {
   "cell_type": "markdown",
   "metadata": {},
   "source": [
    "En este ejercicio no es necesario que se entregue nada!! Podéis hacer un dibujo con el esquema de las tablas o escribir un Markdown con las estructuras de las tablas."
   ]
  },
  {
   "cell_type": "markdown",
   "metadata": {},
   "source": [
    "Primera Forma Normal (1FN):\n",
    "\n",
    "- Reglas Básicas:\n",
    "\n",
    "    - Cada tabla debe tener una clave primaria única que identifique de manera única cada registro.\n",
    "    - Cada campo (columna) en la tabla debe contener valores atómicos, es decir, valores que no se pueden dividir en partes más pequeñas.\n",
    "\n",
    "Segunda Forma Normal (2FN):\n",
    "\n",
    "- Reglas Básicas:\n",
    "\n",
    "    - Debe cumplirse con la 1FN.\n",
    "    - Cada campo no clave debe depender completamente de la clave primaria.\n",
    "\n",
    "Tercera Forma Normal (3FN):\n",
    "\n",
    "- Reglas Básicas:\n",
    "\n",
    "    - Debe cumplirse con la 2FN.\n",
    "\n",
    "    - No debe haber dependencias transitivas entre campos no clave. Esto quiere decir que los campos no clave no dependan de otros campos no clave."
   ]
  },
  {
   "cell_type": "markdown",
   "metadata": {},
   "source": [
    "### TABLA ALUMNAS\n",
    "| id_alumna (PK) | nombre | apellido | dirección | id_pais |\n",
    "|-----------|-----------|-----------|-----------|-----------|\n",
    "| 1 | Cristina | Marín | Cuenca | 1 |\n",
    "| 1 | Cristina | Marín | Cuenca | 1 |\n",
    "| 1 | Cristina | Marín | Cuenca | 1 |\n",
    "| 2 | Marta | López | Toledo | 1 |\n",
    "| 2 | Marta | López | Toledo | 1 |\n",
    "| 3 | Rocío | Pérez | Nantes | 2 |\n",
    "| 3 | Rocío | Pérez | Nantes | 2 |\n",
    "| 4 | Elena | Rodriguez | Monterrey | 3 |\n",
    "| 4 | Elena | Rodriguez | Monterrey | 3 |\n",
    "| 4 | Elena | Rodriguez | Monterrey | 3 |"
   ]
  },
  {
   "cell_type": "markdown",
   "metadata": {},
   "source": [
    "### TABLA ASIGNATURAS\n",
    "\n",
    "| id_asignatura (PK) | asignatura |\n",
    "|-----------|-----------|\n",
    "| 101 | Bases de datos |\n",
    "| 101 | Bases de datos |\n",
    "| 101 | Bases de datos |\n",
    "| 101 | Bases de datos |\n",
    "| 102 | Extracción |\n",
    "| 102 | Extracción |\n",
    "| 102 | Extracción |\n",
    "| 103 | Limpieza |\n",
    "| 103 | Limpieza |\n",
    "| 103 | Limpieza |"
   ]
  },
  {
   "cell_type": "markdown",
   "metadata": {},
   "source": [
    "### TABLA PAIS\n",
    "| id_pais | pais |\n",
    "|-----------|-----------|\n",
    "| 1 | España |\n",
    "| 1 | España |\n",
    "| 1 | España |\n",
    "| 2 | Francia |\n",
    "| 2 | Francia |\n",
    "| 3 | México |\n",
    "| 3 | México |\n",
    "| 3 | México |"
   ]
  },
  {
   "cell_type": "markdown",
   "metadata": {},
   "source": [
    "### TABLA DE NOTAS CON DOS PRIMARY KEYS\n",
    "\n",
    "| id_alumna (PK) | id_asignatura (PK) | nota |\n",
    "|-----------|-----------|-----------|\n",
    "| 1 | 101 | 8 |\n",
    "| 1 | 102 | 9 |\n",
    "| 1 | 103 | 8 |\n",
    "| 2 | 101 | 7 |\n",
    "| 2 | 103 | 9 |\n",
    "| 3 | 101 | 10 |\n",
    "| 3 | 102 | 7 |\n",
    "| 4 | 101 | 10 |\n",
    "| 4 | 102 | 9 |\n",
    "| 4 | 103 | 7 |\n"
   ]
  }
 ],
 "metadata": {
  "kernelspec": {
   "display_name": "Python 3",
   "language": "python",
   "name": "python3"
  },
  "language_info": {
   "name": "python",
   "version": "3.11.9"
  }
 },
 "nbformat": 4,
 "nbformat_minor": 2
}
