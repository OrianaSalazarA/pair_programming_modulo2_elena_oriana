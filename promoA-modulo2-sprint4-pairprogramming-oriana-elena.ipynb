{
 "cells": [
  {
   "cell_type": "markdown",
   "metadata": {},
   "source": [
    "## Pair programming SQL- Extracción de Datos con SQL: Introducción y Normalización BBDD\n",
    "### Pair programming SQL Intro a BBDD y Normalización\n",
    "\n",
    "El objetivo de este ejercicio es hacer las modificaciones necesarias a la siguiente tabla para que cumpla con las tres primeras formas normales:\n",
    "\n",
    "\n",
    "| id_alumna | nombre | dirección | id_asignatura | asignatura | nota |\n",
    "|-----------|-----------|-----------|-----------|-----------|-----------|\n",
    "| 1 | Cristina Marín | Cuenca, España | 101 | Bases de datos | 8 |\n",
    "| 1 | Cristina Marín | Cuenca, España | 102 | Extracción | 9 |\n",
    "| 1 | Cristina Marín | Cuenca, España | 103 | Limpieza | 8 |\n",
    "| 2 | Marta López | Toledo, España | 101 | Bases de datos | 7 |\n",
    "| 2 | Marta López | Toledo, España | 103 | Limpieza | 9 |\n",
    "| 3 | Rocío Pérez | Nantes, Francia | 101 | Bases de datos | 10 |\n",
    "| 3 | Rocío Pérez | Nantes, Francia | 102 | Extracción | 7 |\n",
    "| 4 | Elena Rodriguez | Monterrey, México | 101 | Bases de datos | 10 |\n",
    "| 4 | Elena Rodriguez | Monterrey, México | 102 | Extracción | 9 |\n",
    "| 4 | Elena Rodriguez | Monterrey, México | 103 | Limpieza | 7 |\n",
    "\n"
   ]
  },
  {
   "cell_type": "markdown",
   "metadata": {},
   "source": [
    "En este ejercicio no es necesario que se entregue nada!! Podéis hacer un dibujo con el esquema de las tablas o escribir un Markdown con las estructuras de las tablas."
   ]
  },
  {
   "cell_type": "markdown",
   "metadata": {},
   "source": [
    "Primera Forma Normal (1FN):\n",
    "\n",
    "- Reglas Básicas:\n",
    "\n",
    "    - Cada tabla debe tener una clave primaria única que identifique de manera única cada registro.\n",
    "    - Cada campo (columna) en la tabla debe contener valores atómicos, es decir, valores que no se pueden dividir en partes más pequeñas.\n",
    "\n",
    "Segunda Forma Normal (2FN):\n",
    "\n",
    "- Reglas Básicas:\n",
    "\n",
    "    - Debe cumplirse con la 1FN.\n",
    "    - Cada campo no clave debe depender completamente de la clave primaria.\n",
    "\n",
    "Tercera Forma Normal (3FN):\n",
    "\n",
    "- Reglas Básicas:\n",
    "\n",
    "    - Debe cumplirse con la 2FN.\n",
    "\n",
    "    - No debe haber dependencias transitivas entre campos no clave. Esto quiere decir que los campos no clave no dependan de otros campos no clave."
   ]
  },
  {
   "cell_type": "markdown",
   "metadata": {},
   "source": [
    "### TABLA ALUMNAS\n",
    "| id_alumna (PK) | nombre | apellido | dirección | pais | id_asignatura (FK) |\n",
    "|-----------|-----------|-----------|-----------|-----------|-----------|\n",
    "| 1 | Cristina | Marín | Cuenca | España | 101 |\n",
    "| 1 | Cristina | Marín | Cuenca | España | 102 |\n",
    "| 1 | Cristina | Marín | Cuenca | España | 103 |\n",
    "| 2 | Marta | López | Toledo | España | 101 |\n",
    "| 2 | Marta | López | Toledo | España | 103 |\n",
    "| 3 | Rocío | Pérez | Nantes | Francia | 101 |\n",
    "| 3 | Rocío | Pérez | Nantes | Francia | 102 |\n",
    "| 4 | Elena | Rodriguez | Monterrey | México | 101 |\n",
    "| 4 | Elena | Rodriguez | Monterrey | México | 102 |\n",
    "| 4 | Elena | Rodriguez | Monterrey | México | 103 |"
   ]
  },
  {
   "cell_type": "markdown",
   "metadata": {},
   "source": [
    "### TABLA ASIGNATURAS\n",
    "\n",
    "| id_asignatura (PK) | asignatura | id_alumna (FK) | nota |\n",
    "|-----------|-----------|-----------|-----------|\n",
    "| 101 | Bases de datos | 1 | 8 |\n",
    "| 101 | Bases de datos | 2 | 7 |\n",
    "| 101 | Bases de datos | 3 | 10 |\n",
    "| 101 | Bases de datos | 4 | 10 |\n",
    "| 102 | Extracción | 1 | 9 |\n",
    "| 102 | Extracción | 3 | 7 |\n",
    "| 102 | Extracción | 4 | 9 |\n",
    "| 103 | Limpieza | 1 | 8 |\n",
    "| 103 | Limpieza | 2 | 9 |\n",
    "| 103 | Limpieza | 4 | 7 |"
   ]
  }
 ],
 "metadata": {
  "kernelspec": {
   "display_name": "Python 3",
   "language": "python",
   "name": "python3"
  },
  "language_info": {
   "name": "python",
   "version": "3.11.9"
  }
 },
 "nbformat": 4,
 "nbformat_minor": 2
}
